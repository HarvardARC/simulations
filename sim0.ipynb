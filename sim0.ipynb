{
 "metadata": {
  "name": ""
 },
 "nbformat": 3,
 "nbformat_minor": 0,
 "worksheets": [
  {
   "cells": [
    {
     "cell_type": "markdown",
     "metadata": {},
     "source": [
      "# We're Computer Scientists? \n",
      "\n",
      "First, welcome to [ARC](http://www.hcs.harvard.edu/harvard-arc/). The first comment that needs to be said is that yes, we are computer scientists. Whether you are doing research in a lab, in the field, or in Wall Street, being a scientist means being a computer scientist. Which means now more than ever, computer science is becoming wanted if not necessary. So while ARC is a club that focuses on finance, what we are really doing is Computer Science. \n",
      "\n",
      "---\n",
      "# ARC\n",
      "\n",
      "If you are not already on the [Arc-Announce email list](https://lists.hcs.harvard.edu/mailman/listinfo/arc-announce), join now. This is how we will send out info about these simulations, weekly meetings, guest speakers, etc. \n",
      "\n",
      "# Tools\n",
      "\n",
      "We will be using a variety of tools that will require some initial configuration. To ensure everything goes smoothly moving forward, we will setup the majority of those tools in this week's simulation. This set up will provide the tools for the rest of the simulations this semester.  \n",
      "\n",
      "\n",
      "## Piazza\n",
      "\n",
      "\n",
      "Go to [Piazza](https://piazza.com/class/hridk9vc1oa1u7) and sign up for the ARC class.\n",
      "\n",
      "We will use Piazza as a forum for discussion, asking questions, to find team members, and everything else you know Piazza is for. \n",
      "\n",
      "\n",
      "## Programming expectations\n",
      "\n",
      "All the assignments and labs for ARC will use Python and, for the most part, the browser-based IPython notebook format you are currently viewing. Knowledge of Python is not a prerequisite for participation in ARC; only a basic level of programming experience is needed. The programming component of this course is straightforward, so all you will need to pick up on your own is Python syntax. Basically, you should feel comfortable with:\n",
      "\n",
      "* How to look up Python syntax on Google and StackOverflow.\n",
      "* Basic programming concepts like functions, loops, arrays, dictionaries, strings, and if statements.\n",
      "* How to learn new libraries by reading documentation.\n",
      "* Asking questions on StackOverflow or Piazza.\n",
      "\n",
      "There are many online tutorials to introduce you to scientific python programming. [Here is a set of lectures](https://github.com/jrjohansson/scientific-python-lectures) which is very nice and relevant to ARC.\n",
      "\n",
      "For an introduction to python we recommend: [Learn Python](http://www.learnpython.org/). This is entirely browser based so enjoy!\n",
      "\n",
      "## Getting Python\n",
      "\n",
      "We will be using Python, including many popular 3rd party Python libraries for scientific computing. [Anaconda](http://continuum.io/downloads) is an easy-to-install bundle of Python and most of these libraries. We recommend that you use Anaconda for this course.\n",
      "\n",
      "Please visit [this page](https://github.com/cs109/content/wiki/Installing-Python) and follow the instructions to set up Python (you can ignore setting up MrJob)\n",
      "\n",
      "<hline>\n",
      "\n",
      "## IPython Notebook\n",
      "\n",
      "The IPython notebook is an application to build interactive computational notebooks. You'll be using them to complete labs and homework. Once you've set up Python, please download this page (from the top right of the viewer/webpage), and open it with IPython by typing the following into your terminal from the directory where this file is saved, then click on the file from the page that pops up in your browser. ([Any questions?](https://piazza.com/class/hridk9vc1oa1u7)) \n",
      "\n",
      "```\n",
      "ipython notebook\n",
      "```\n",
      "\n",
      "For the rest of the assignment, use your local copy of this page, running on IPython. For a more in depth exploration of IPython, please click [here](http://ipython.org/ipython-doc/stable/interactive/tutorial.html) and go though this tutorial.\n",
      "\n",
      "Notebooks are composed of many \"cells\", which can contain text (like this one), or code (like the one below). Double click on the cell below, and evaluate it by clicking the \"play\" button above, for by hitting shift + enter"
     ]
    },
    {
     "cell_type": "code",
     "collapsed": false,
     "input": [
      "x = ['A', 'R', 'C']\n",
      "for item in x:\n",
      "    print \"\", item"
     ],
     "language": "python",
     "metadata": {},
     "outputs": [
      {
       "output_type": "stream",
       "stream": "stdout",
       "text": [
        " A\n",
        " R\n",
        " C\n"
       ]
      }
     ],
     "prompt_number": 11
    },
    {
     "cell_type": "markdown",
     "metadata": {},
     "source": [
      "## Python Libraries\n",
      "\n",
      "We will be using a several different libraries throughout this course. If you've successfully completed the [installation instructions](https://github.com/cs109/content/wiki/Installing-Python), all of the following statements should run."
     ]
    },
    {
     "cell_type": "code",
     "collapsed": false,
     "input": [
      "#IPython is what you are using now to run the notebook\n",
      "import IPython\n",
      "print \"IPython version:      %6.6s (need at least 1.0)\" % IPython.__version__\n",
      "\n",
      "# Numpy is a library for working with Arrays\n",
      "import numpy as np\n",
      "print \"Numpy version:        %6.6s (need at least 1.7.1)\" % np.__version__\n",
      "\n",
      "# SciPy implements many different numerical algorithms\n",
      "import scipy as sp\n",
      "print \"SciPy version:        %6.6s (need at least 0.12.0)\" % sp.__version__\n",
      "\n",
      "# Pandas makes working with data tables easier\n",
      "import pandas as pd\n",
      "print \"Pandas version:       %6.6s (need at least 0.11.0)\" % pd.__version__\n",
      "\n",
      "# Module for plotting\n",
      "import matplotlib\n",
      "print \"Mapltolib version:    %6.6s (need at least 1.2.1)\" % matplotlib.__version__\n",
      "\n",
      "# SciKit Learn implements several Machine Learning algorithms\n",
      "import sklearn\n",
      "print \"Scikit-Learn version: %6.6s (need at least 0.13.1)\" % sklearn.__version__\n",
      "\n",
      "# Requests is a library for getting data from the Web\n",
      "import requests\n",
      "print \"requests version:     %6.6s (need at least 1.2.3)\" % requests.__version__\n",
      "\n",
      "# Networkx is a library for working with networks\n",
      "import networkx as nx\n",
      "print \"NetworkX version:     %6.6s (need at least 1.7)\" % nx.__version__\n",
      "\n",
      "#BeautifulSoup is a library to parse HTML and XML documents\n",
      "import iso8601\n",
      "print iso8601.parse_date(\"2007-01-25T12:00:00Z\")\n",
      "\n"
     ],
     "language": "python",
     "metadata": {},
     "outputs": [
      {
       "output_type": "stream",
       "stream": "stdout",
       "text": [
        "IPython version:       1.0.0 (need at least 1.0)\n",
        "Numpy version:         1.7.1 (need at least 1.7.1)\n",
        "SciPy version:        0.12.0 (need at least 0.12.0)\n",
        "Pandas version:       0.12.0 (need at least 0.11.0)"
       ]
      },
      {
       "output_type": "stream",
       "stream": "stdout",
       "text": [
        "\n",
        "Mapltolib version:     1.3.0 (need at least 1.2.1)\n",
        "Scikit-Learn version: 0.14.1 (need at least 0.13.1)"
       ]
      },
      {
       "output_type": "stream",
       "stream": "stdout",
       "text": [
        "\n",
        "requests version:      1.2.3 (need at least 1.2.3)"
       ]
      },
      {
       "output_type": "stream",
       "stream": "stdout",
       "text": [
        "\n",
        "NetworkX version:      1.8.1 (need at least 1.7)"
       ]
      },
      {
       "ename": "ImportError",
       "evalue": "No module named iso8601",
       "output_type": "pyerr",
       "traceback": [
        "\u001b[0;31m---------------------------------------------------------------------------\u001b[0m\n\u001b[0;31mImportError\u001b[0m                               Traceback (most recent call last)",
        "\u001b[0;32m<ipython-input-6-c6d5a4de3a0e>\u001b[0m in \u001b[0;36m<module>\u001b[0;34m()\u001b[0m\n\u001b[1;32m     32\u001b[0m \u001b[0;34m\u001b[0m\u001b[0m\n\u001b[1;32m     33\u001b[0m \u001b[0;31m#BeautifulSoup is a library to parse HTML and XML documents\u001b[0m\u001b[0;34m\u001b[0m\u001b[0;34m\u001b[0m\u001b[0m\n\u001b[0;32m---> 34\u001b[0;31m \u001b[0;32mimport\u001b[0m \u001b[0miso8601\u001b[0m\u001b[0;34m\u001b[0m\u001b[0m\n\u001b[0m\u001b[1;32m     35\u001b[0m \u001b[0;32mprint\u001b[0m \u001b[0miso8601\u001b[0m\u001b[0;34m.\u001b[0m\u001b[0mparse_date\u001b[0m\u001b[0;34m(\u001b[0m\u001b[0;34m\"2007-01-25T12:00:00Z\"\u001b[0m\u001b[0;34m)\u001b[0m\u001b[0;34m\u001b[0m\u001b[0m\n\u001b[1;32m     36\u001b[0m \u001b[0;34m\u001b[0m\u001b[0m\n",
        "\u001b[0;31mImportError\u001b[0m: No module named iso8601"
       ]
      },
      {
       "output_type": "stream",
       "stream": "stdout",
       "text": [
        "\n"
       ]
      }
     ],
     "prompt_number": 6
    },
    {
     "cell_type": "markdown",
     "metadata": {},
     "source": [
      "If any of these libraries are missing or out of date, you will need to [install them](https://github.com/cs109/content/wiki/Installing-Python) and restart IPython"
     ]
    },
    {
     "cell_type": "markdown",
     "metadata": {},
     "source": [
      "## Matplotlib Science"
     ]
    },
    {
     "cell_type": "markdown",
     "metadata": {},
     "source": [
      "The notebook integrates nicely with Matplotlib, the primary plotting package for python. This should embed a figure of a 3 dimensional bar graph:"
     ]
    },
    {
     "cell_type": "code",
     "collapsed": false,
     "input": [
      "#this line prepares IPython for working with matplotlib\n",
      "%matplotlib inline  \n",
      "\n",
      "from mpl_toolkits.mplot3d import Axes3D\n",
      "import matplotlib.pyplot as plt\n",
      "import numpy as np\n",
      "\n",
      "fig = plt.figure()\n",
      "ax = fig.add_subplot(111, projection='3d')\n",
      "x, y = np.random.rand(2, 100) * 4\n",
      "hist, xedges, yedges = np.histogram2d(x, y, bins=4)\n",
      "\n",
      "elements = (len(xedges) - 1) * (len(yedges) - 1)\n",
      "xpos, ypos = np.meshgrid(xedges[:-1]+0.25, yedges[:-1]+0.25)\n",
      "\n",
      "xpos = xpos.flatten()\n",
      "ypos = ypos.flatten()\n",
      "zpos = np.zeros(elements)\n",
      "dx = 0.5 * np.ones_like(zpos)\n",
      "dy = dx.copy()\n",
      "dz = hist.flatten()\n",
      "\n",
      "ax.bar3d(xpos, ypos, zpos, dx, dy, dz, color='b', zsort='average')\n",
      "\n",
      "plt.show()\n",
      "         "
     ],
     "language": "python",
     "metadata": {},
     "outputs": [
      {
       "metadata": {},
       "output_type": "display_data",
       "png": "[encoded data removed]",
       "text": [
        "<matplotlib.figure.Figure at 0x105fe5c50>"
       ]
      }
     ],
     "prompt_number": 10
    },
    {
     "cell_type": "markdown",
     "metadata": {},
     "source": [
      "If that last cell complained about the `%matplotlib` line, you need to update IPython to v1.0, and restart the notebook. See the [installation page](https://github.com/knathanieltucker/arc/wiki/Basic-Python)"
     ]
    },
    {
     "cell_type": "markdown",
     "metadata": {},
     "source": [
      "## Numpy Science\n",
      "\n",
      "The Numpy array processing library is the basis of nearly all numerical computing in Python. Here's a 30 second crash course. For more details, consult Chapter 4 of Python for Data Analysis, or the [Numpy User's Guide](http://docs.scipy.org/doc/numpy-dev/user/index.html)"
     ]
    },
    {
     "cell_type": "code",
     "collapsed": false,
     "input": [
      "print \"Make a 3 row x 4 column array of random numbers\"\n",
      "x = np.random.random((3, 4))\n",
      "print x\n",
      "print\n",
      "\n",
      "print \"Add 1 to every element\"\n",
      "x = x + 1\n",
      "print x\n",
      "print\n",
      "\n",
      "print \"Get the element at row 1, column 2\"\n",
      "print x[1, 2]\n",
      "print\n",
      "\n",
      "# The colon syntax is called \"slicing\" the array. \n",
      "print \"Get the first row\"\n",
      "print x[0, :]\n",
      "print\n",
      "\n",
      "print \"Get every 2nd column of the first row\"\n",
      "print x[0, ::2]\n",
      "print"
     ],
     "language": "python",
     "metadata": {},
     "outputs": [
      {
       "output_type": "stream",
       "stream": "stdout",
       "text": [
        "Make a 3 row x 4 column array of random numbers\n",
        "[[ 0.35198966  0.83844546  0.52900685  0.19732521]\n",
        " [ 0.96856304  0.46816815  0.36090853  0.06499817]\n",
        " [ 0.56273956  0.18982813  0.48919442  0.37127594]]\n",
        "\n",
        "Add 1 to every element\n",
        "[[ 1.35198966  1.83844546  1.52900685  1.19732521]\n",
        " [ 1.96856304  1.46816815  1.36090853  1.06499817]\n",
        " [ 1.56273956  1.18982813  1.48919442  1.37127594]]\n",
        "\n",
        "Get the element at row 1, column 2\n",
        "1.3609085295\n",
        "\n",
        "Get the first row\n",
        "[ 1.35198966  1.83844546  1.52900685  1.19732521]\n",
        "\n",
        "Get every 2nd column of the first row\n",
        "[ 1.35198966  1.52900685]\n",
        "\n"
       ]
      }
     ],
     "prompt_number": 17
    },
    {
     "cell_type": "markdown",
     "metadata": {},
     "source": [
      "## Black-Scholes Formula\n",
      "\n",
      "To get us started, lets get our hands down and dirty and create a funciton to compute the infamous: Black-Scholes formula. For those of us without an eidetic memory the formula is as follows:\n",
      "\n",
      "$$C(S,t) = N(d_1)S - N(d_2)Ke^{-r(T-t)}$$\n",
      "\n",
      "Where $N()$ is the cumulative distribution function (CDF) of the standard normal, and: \n",
      "\n",
      "\n",
      "$$d_1 = \\frac{\\ln(S/K) + (r + \\sigma^2/2)(T - t)}{\\sigma \\sqrt{T - t}}$$\n",
      "$$d_2 = \\frac{\\ln(S/K) + (r - \\sigma^2/2)(T - t)}{\\sigma \\sqrt{T - t}}$$\n",
      "$$d_2 = d_1 - \\sigma \\sqrt{T - t}$$\n",
      "\n",
      "\n",
      "We will skip the derivation and the implications of this formula for now in this introduction, but Black-Scholes will certainly come up again. For now, let's just write some code. We want to write a function that takes: \n",
      "\n",
      "$S$, the spot price of the underlying asset\n",
      "\n",
      "$T$, the time step of maturity \n",
      "\n",
      "$t$, the current time step\n",
      "\n",
      "$K$, the strike price\n",
      "\n",
      "$r$, the risk free rate\n",
      "\n",
      "$\\sigma$, the volitility of the returns of the underlying asset\n",
      "\n",
      "Hint: Use the following for the normal CDF<pre><code> scipy.stats.norm.cdf()</code></pre>"
     ]
    },
    {
     "cell_type": "code",
     "collapsed": false,
     "input": [
      "\"\"\"\n",
      "Function\n",
      "--------\n",
      "black_scholes_formula_call\n",
      "\n",
      "get the price of a call given these params\n",
      "\n",
      "Parameters\n",
      "----------\n",
      "S : float\n",
      "    the spot price of the underlying asset\n",
      "    \n",
      "K : float\n",
      "     the strike price\n",
      "    \n",
      "T : float\n",
      "     the time step of maturity\n",
      "    \n",
      "t : float\n",
      "     the current time step\n",
      "    \n",
      "r : float\n",
      "    the risk free rate\n",
      "    \n",
      "sigma : float\n",
      "     the volitility of the returns of the underlying asset\n",
      "\n",
      "Returns\n",
      "-------\n",
      "sims : array\n",
      "    Random array of 0s, 1s, and 2s\n",
      "\n",
      "Example\n",
      "-------\n",
      ">>> print black_scholes_formula_call(460.0,470.0,.17,0.0,.02,.58)\n",
      "37.0\n",
      "\"\"\"\n",
      "\n"
     ],
     "language": "python",
     "metadata": {},
     "outputs": [
      {
       "output_type": "stream",
       "stream": "stdout",
       "text": [
        "\n"
       ]
      }
     ],
     "prompt_number": 16
    },
    {
     "cell_type": "markdown",
     "metadata": {},
     "source": [
      "That is great, hopefully your formula generated the same result as the example above. Now let's finish up by visualizing the decay of our option above: That is, the decreasing value of the option as it approaches expiration. We can have our $t \\rightarrow T$ incrementally, and then graph these values. "
     ]
    },
    {
     "cell_type": "code",
     "collapsed": false,
     "input": [
      "\"\"\"\n",
      "Function\n",
      "--------\n",
      "option_plot\n",
      "\n",
      "plot the price of a call option over a series of points \n",
      "\n",
      "Parameters\n",
      "----------\n",
      "prices : list\n",
      "    a list of prices \n",
      "\n",
      "Returns\n",
      "-------\n",
      "prints graph\n",
      "\n",
      "Example\n",
      "-------\n",
      ">>> option_plot([1,2,3,4,5,6,7])\n",
      "\n",
      "\"\"\"\n",
      "import matplotlib.pyplot as plt\n",
      "\n",
      "def option_plot(prices):\n",
      "    plt.plot(prices)\n",
      "    plt.ylabel('Price of the Option')\n",
      "    plt.xlabel('Time')\n",
      "    plt.title('Price of a Call Option over Time')\n",
      "    plt.show()\n"
     ],
     "language": "python",
     "metadata": {},
     "outputs": [],
     "prompt_number": 12
    },
    {
     "cell_type": "code",
     "collapsed": false,
     "input": [
      "# your code "
     ],
     "language": "python",
     "metadata": {},
     "outputs": []
    },
    {
     "cell_type": "markdown",
     "metadata": {},
     "source": [
      "## You're done!\n",
      "\n",
      "Once again, welcome to ARC. Good job on simulation 0. See you on Monday! \n",
      "\n",
      "ARC welcomes you now as a Computer Scientist"
     ]
    },
    {
     "cell_type": "markdown",
     "metadata": {},
     "source": [
      " ---\n",
      "*css tweaks in this cell*\n",
      "<style>\n",
      "div.text_cell_render {\n",
      "    line-height: 150%;\n",
      "    font-size: 110%;\n",
      "    width: 800px;\n",
      "    margin-left:50px;\n",
      "    margin-right:auto;\n",
      "    }\n",
      "</style>"
     ]
    },
    {
     "cell_type": "markdown",
     "metadata": {},
     "source": [
      "Questions? Thoughts? Contact us via [Piazza](https://piazza.com/class/hridk9vc1oa1u7) or email at harvardARC@gmail.com"
     ]
    },
    {
     "cell_type": "code",
     "collapsed": false,
     "input": [],
     "language": "python",
     "metadata": {},
     "outputs": []
    },
    {
     "cell_type": "code",
     "collapsed": false,
     "input": [],
     "language": "python",
     "metadata": {},
     "outputs": []
    }
   ],
   "metadata": {}
  }
 ]
}